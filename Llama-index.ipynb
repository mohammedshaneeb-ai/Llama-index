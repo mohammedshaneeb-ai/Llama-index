{
 "cells": [
  {
   "cell_type": "code",
   "execution_count": 1,
   "id": "18f2e01d",
   "metadata": {
    "collapsed": true
   },
   "outputs": [
    {
     "name": "stdout",
     "output_type": "stream",
     "text": [
      "Collecting llama-index\n",
      "  Obtaining dependency information for llama-index from https://files.pythonhosted.org/packages/2b/2b/0d4914384513dd15ea60a52a0f6b380b7dee2be7e2049e4c0986ed863305/llama_index-0.8.20-py3-none-any.whl.metadata\n",
      "  Downloading llama_index-0.8.20-py3-none-any.whl.metadata (4.9 kB)\n",
      "Requirement already satisfied: tiktoken in /home/mohammed_shaneeb/anaconda3/lib/python3.9/site-packages (from llama-index) (0.4.0)\n",
      "Requirement already satisfied: dataclasses-json in /home/mohammed_shaneeb/anaconda3/lib/python3.9/site-packages (from llama-index) (0.5.7)\n",
      "Requirement already satisfied: langchain>=0.0.262 in /home/mohammed_shaneeb/anaconda3/lib/python3.9/site-packages (from llama-index) (0.0.276)\n",
      "Collecting sqlalchemy>=2.0.15 (from llama-index)\n",
      "  Obtaining dependency information for sqlalchemy>=2.0.15 from https://files.pythonhosted.org/packages/91/2b/92aadcea86b9ebd681de0b6b2cbfa75193227e607893cfb5feea0cefc461/SQLAlchemy-2.0.20-cp39-cp39-manylinux_2_17_x86_64.manylinux2014_x86_64.whl.metadata\n",
      "  Downloading SQLAlchemy-2.0.20-cp39-cp39-manylinux_2_17_x86_64.manylinux2014_x86_64.whl.metadata (9.4 kB)\n",
      "Requirement already satisfied: numpy in /home/mohammed_shaneeb/anaconda3/lib/python3.9/site-packages (from llama-index) (1.23.5)\n",
      "Requirement already satisfied: tenacity<9.0.0,>=8.2.0 in /home/mohammed_shaneeb/anaconda3/lib/python3.9/site-packages (from llama-index) (8.2.2)\n",
      "Requirement already satisfied: openai>=0.26.4 in /home/mohammed_shaneeb/anaconda3/lib/python3.9/site-packages (from llama-index) (0.27.10)\n",
      "Requirement already satisfied: pandas in /home/mohammed_shaneeb/anaconda3/lib/python3.9/site-packages (from llama-index) (1.5.3)\n",
      "Requirement already satisfied: urllib3<2 in /home/mohammed_shaneeb/anaconda3/lib/python3.9/site-packages (from llama-index) (1.26.16)\n",
      "Collecting fsspec>=2023.5.0 (from llama-index)\n",
      "  Obtaining dependency information for fsspec>=2023.5.0 from https://files.pythonhosted.org/packages/3a/9f/b40e8e5be886143379000af5fc0c675352d59e82fd869d24bf784161dc77/fsspec-2023.9.0-py3-none-any.whl.metadata\n",
      "  Downloading fsspec-2023.9.0-py3-none-any.whl.metadata (6.7 kB)\n",
      "Requirement already satisfied: typing-inspect>=0.8.0 in /home/mohammed_shaneeb/anaconda3/lib/python3.9/site-packages (from llama-index) (0.8.0)\n",
      "Requirement already satisfied: typing-extensions>=4.5.0 in /home/mohammed_shaneeb/anaconda3/lib/python3.9/site-packages (from llama-index) (4.7.1)\n",
      "Requirement already satisfied: beautifulsoup4 in /home/mohammed_shaneeb/anaconda3/lib/python3.9/site-packages (from llama-index) (4.12.2)\n",
      "Requirement already satisfied: nest-asyncio in /home/mohammed_shaneeb/.local/lib/python3.9/site-packages (from llama-index) (1.5.6)\n",
      "Requirement already satisfied: PyYAML>=5.3 in /home/mohammed_shaneeb/anaconda3/lib/python3.9/site-packages (from langchain>=0.0.262->llama-index) (6.0)\n",
      "Requirement already satisfied: aiohttp<4.0.0,>=3.8.3 in /home/mohammed_shaneeb/anaconda3/lib/python3.9/site-packages (from langchain>=0.0.262->llama-index) (3.8.3)\n",
      "Requirement already satisfied: async-timeout<5.0.0,>=4.0.0 in /home/mohammed_shaneeb/anaconda3/lib/python3.9/site-packages (from langchain>=0.0.262->llama-index) (4.0.2)\n",
      "Requirement already satisfied: langsmith<0.1.0,>=0.0.21 in /home/mohammed_shaneeb/anaconda3/lib/python3.9/site-packages (from langchain>=0.0.262->llama-index) (0.0.28)\n",
      "Requirement already satisfied: numexpr<3.0.0,>=2.8.4 in /home/mohammed_shaneeb/anaconda3/lib/python3.9/site-packages (from langchain>=0.0.262->llama-index) (2.8.4)\n",
      "Requirement already satisfied: pydantic<3,>=1 in /home/mohammed_shaneeb/anaconda3/lib/python3.9/site-packages (from langchain>=0.0.262->llama-index) (1.10.12)\n",
      "Requirement already satisfied: requests<3,>=2 in /home/mohammed_shaneeb/anaconda3/lib/python3.9/site-packages (from langchain>=0.0.262->llama-index) (2.31.0)\n",
      "Requirement already satisfied: marshmallow<4.0.0,>=3.3.0 in /home/mohammed_shaneeb/anaconda3/lib/python3.9/site-packages (from dataclasses-json->llama-index) (3.19.0)\n",
      "Requirement already satisfied: marshmallow-enum<2.0.0,>=1.5.1 in /home/mohammed_shaneeb/anaconda3/lib/python3.9/site-packages (from dataclasses-json->llama-index) (1.5.1)\n",
      "Requirement already satisfied: tqdm in /home/mohammed_shaneeb/anaconda3/lib/python3.9/site-packages (from openai>=0.26.4->llama-index) (4.65.0)\n",
      "Requirement already satisfied: greenlet!=0.4.17 in /home/mohammed_shaneeb/anaconda3/lib/python3.9/site-packages (from sqlalchemy>=2.0.15->llama-index) (2.0.1)\n",
      "Requirement already satisfied: mypy-extensions>=0.3.0 in /home/mohammed_shaneeb/anaconda3/lib/python3.9/site-packages (from typing-inspect>=0.8.0->llama-index) (0.4.3)\n",
      "Requirement already satisfied: soupsieve>1.2 in /home/mohammed_shaneeb/anaconda3/lib/python3.9/site-packages (from beautifulsoup4->llama-index) (2.4)\n",
      "Requirement already satisfied: python-dateutil>=2.8.1 in /home/mohammed_shaneeb/anaconda3/lib/python3.9/site-packages (from pandas->llama-index) (2.8.1)\n",
      "Requirement already satisfied: pytz>=2020.1 in /home/mohammed_shaneeb/anaconda3/lib/python3.9/site-packages (from pandas->llama-index) (2022.7)\n",
      "Requirement already satisfied: regex>=2022.1.18 in /home/mohammed_shaneeb/anaconda3/lib/python3.9/site-packages (from tiktoken->llama-index) (2022.7.9)\n",
      "Requirement already satisfied: attrs>=17.3.0 in /home/mohammed_shaneeb/anaconda3/lib/python3.9/site-packages (from aiohttp<4.0.0,>=3.8.3->langchain>=0.0.262->llama-index) (22.1.0)\n",
      "Requirement already satisfied: charset-normalizer<3.0,>=2.0 in /home/mohammed_shaneeb/anaconda3/lib/python3.9/site-packages (from aiohttp<4.0.0,>=3.8.3->langchain>=0.0.262->llama-index) (2.0.4)\n",
      "Requirement already satisfied: multidict<7.0,>=4.5 in /home/mohammed_shaneeb/anaconda3/lib/python3.9/site-packages (from aiohttp<4.0.0,>=3.8.3->langchain>=0.0.262->llama-index) (6.0.2)\n",
      "Requirement already satisfied: yarl<2.0,>=1.0 in /home/mohammed_shaneeb/anaconda3/lib/python3.9/site-packages (from aiohttp<4.0.0,>=3.8.3->langchain>=0.0.262->llama-index) (1.8.1)\n",
      "Requirement already satisfied: frozenlist>=1.1.1 in /home/mohammed_shaneeb/anaconda3/lib/python3.9/site-packages (from aiohttp<4.0.0,>=3.8.3->langchain>=0.0.262->llama-index) (1.3.3)\n",
      "Requirement already satisfied: aiosignal>=1.1.2 in /home/mohammed_shaneeb/anaconda3/lib/python3.9/site-packages (from aiohttp<4.0.0,>=3.8.3->langchain>=0.0.262->llama-index) (1.2.0)\n",
      "Requirement already satisfied: packaging>=17.0 in /home/mohammed_shaneeb/.local/lib/python3.9/site-packages (from marshmallow<4.0.0,>=3.3.0->dataclasses-json->llama-index) (23.0)\n",
      "Requirement already satisfied: six>=1.5 in /home/mohammed_shaneeb/.local/lib/python3.9/site-packages (from python-dateutil>=2.8.1->pandas->llama-index) (1.16.0)\n",
      "Requirement already satisfied: idna<4,>=2.5 in /home/mohammed_shaneeb/anaconda3/lib/python3.9/site-packages (from requests<3,>=2->langchain>=0.0.262->llama-index) (3.4)\n",
      "Requirement already satisfied: certifi>=2017.4.17 in /home/mohammed_shaneeb/anaconda3/lib/python3.9/site-packages (from requests<3,>=2->langchain>=0.0.262->llama-index) (2023.7.22)\n",
      "Downloading llama_index-0.8.20-py3-none-any.whl (752 kB)\n",
      "\u001b[2K   \u001b[38;2;114;156;31m━━━━━━━━━━━━━━━━━━━━━━━━━━━━━━━━━━━━━━━━\u001b[0m \u001b[32m752.3/752.3 kB\u001b[0m \u001b[31m1.5 MB/s\u001b[0m eta \u001b[36m0:00:00\u001b[0m[31m1.6 MB/s\u001b[0m eta \u001b[36m0:00:01\u001b[0m\n",
      "\u001b[?25hDownloading fsspec-2023.9.0-py3-none-any.whl (173 kB)\n",
      "\u001b[2K   \u001b[38;2;114;156;31m━━━━━━━━━━━━━━━━━━━━━━━━━━━━━━━━━━━━━━━━\u001b[0m \u001b[32m173.2/173.2 kB\u001b[0m \u001b[31m2.7 MB/s\u001b[0m eta \u001b[36m0:00:00\u001b[0mMB/s\u001b[0m eta \u001b[36m0:00:01\u001b[0m\n",
      "\u001b[?25hDownloading SQLAlchemy-2.0.20-cp39-cp39-manylinux_2_17_x86_64.manylinux2014_x86_64.whl (3.0 MB)\n",
      "\u001b[2K   \u001b[38;2;114;156;31m━━━━━━━━━━━━━━━━━━━━━━━━━━━━━━━━━━━━━━━━\u001b[0m \u001b[32m3.0/3.0 MB\u001b[0m \u001b[31m2.1 MB/s\u001b[0m eta \u001b[36m0:00:00\u001b[0mm eta \u001b[36m0:00:01\u001b[0m[36m0:00:01\u001b[0m\n",
      "\u001b[?25hInstalling collected packages: sqlalchemy, fsspec, llama-index\n",
      "  Attempting uninstall: sqlalchemy\n",
      "    Found existing installation: SQLAlchemy 1.4.39\n",
      "    Uninstalling SQLAlchemy-1.4.39:\n",
      "      Successfully uninstalled SQLAlchemy-1.4.39\n",
      "  Attempting uninstall: fsspec\n",
      "    Found existing installation: fsspec 2023.4.0\n",
      "    Uninstalling fsspec-2023.4.0:\n",
      "      Successfully uninstalled fsspec-2023.4.0\n",
      "\u001b[31mERROR: pip's dependency resolver does not currently take into account all the packages that are installed. This behaviour is the source of the following dependency conflicts.\n",
      "doccano 1.8.4 requires pydantic<3.0.0,>=2.0.3, but you have pydantic 1.10.12 which is incompatible.\n",
      "doccano 1.8.4 requires SQLAlchemy<2.0.0,>=1.4.31, but you have sqlalchemy 2.0.20 which is incompatible.\n",
      "lightning 2.0.1 requires fastapi<0.89.0, but you have fastapi 0.99.1 which is incompatible.\n",
      "s3fs 2023.4.0 requires fsspec==2023.4.0, but you have fsspec 2023.9.0 which is incompatible.\u001b[0m\u001b[31m\n",
      "\u001b[0mSuccessfully installed fsspec-2023.9.0 llama-index-0.8.20 sqlalchemy-2.0.20\n"
     ]
    }
   ],
   "source": [
    "!pip install llama-index"
   ]
  },
  {
   "cell_type": "markdown",
   "id": "c4280c33",
   "metadata": {},
   "source": [
    "## Setting API KEY"
   ]
  },
  {
   "cell_type": "code",
   "execution_count": 2,
   "id": "00aeca98",
   "metadata": {},
   "outputs": [],
   "source": [
    "import os\n",
    "from dotenv import load_dotenv\n",
    "load_dotenv()\n",
    "\n",
    "os.environ['OPENAI_API_KEY'] = os.environ.get('OPENAI_API_KEY')"
   ]
  },
  {
   "cell_type": "markdown",
   "id": "9879c674",
   "metadata": {},
   "source": [
    "## build a simple vector store index"
   ]
  },
  {
   "cell_type": "code",
   "execution_count": 4,
   "id": "81b9df84",
   "metadata": {},
   "outputs": [],
   "source": [
    "from llama_index import VectorStoreIndex, SimpleDirectoryReader\n",
    "\n",
    "documents = SimpleDirectoryReader('countries').load_data()\n",
    "index = VectorStoreIndex.from_documents(documents)\n",
    "query_engine = index.as_query_engine()"
   ]
  },
  {
   "cell_type": "code",
   "execution_count": 6,
   "id": "b98d05b3",
   "metadata": {},
   "outputs": [
    {
     "name": "stdout",
     "output_type": "stream",
     "text": [
      "India's culture is known for its incredible diversity, with a variety of languages, religions, and traditions. It is often referred to as the \"Land of Diversity\" due to the numerous ethnic groups that call it home. The country's cultural landscape is heavily influenced by its religious diversity, with major religions such as Hinduism, Buddhism, Jainism, and Sikhism originating in India. Art and architecture are integral to Indian culture, with intricate temple sculptures, colorful frescoes, and stunning architectural wonders like the Taj Mahal. Indian cuisine is famous worldwide for its diverse flavors and regional specialties, with spices playing a central role in cooking. Traditional Indian clothing varies across regions, with sarees, dhotis, and kurta-pajamas being commonly worn. India is also renowned for its vibrant festivals, such as Diwali (Festival of Lights) and Holi (Festival of Colors), which are celebrated with enthusiasm and fervor. India's history dates back to the ancient Indus Valley Civilization, and it has seen the rise and fall of various empires, including the Maurya, Gupta, and Mughal empires. It was colonized by the British East India Company before gaining independence in 1947. Since then, India has made significant progress in various fields and remains a diverse and dynamic nation with a global influence.\n"
     ]
    }
   ],
   "source": [
    "print(query_engine.query(\"what is the culture of India\"))"
   ]
  },
  {
   "cell_type": "code",
   "execution_count": 7,
   "id": "99707d74",
   "metadata": {},
   "outputs": [
    {
     "name": "stdout",
     "output_type": "stream",
     "text": [
      "Independence Day - July 4th\n",
      "Thanksgiving - Fourth Thursday in November\n",
      "Halloween - October 31st\n",
      "Christmas - December 25th\n",
      "Labor Day - First Monday in September\n"
     ]
    }
   ],
   "source": [
    "print(query_engine.query(\"List down Festivals of USA with its's date if possible\"))"
   ]
  },
  {
   "cell_type": "code",
   "execution_count": 9,
   "id": "d86be52c",
   "metadata": {},
   "outputs": [
    {
     "name": "stdout",
     "output_type": "stream",
     "text": [
      "The language of Pakistan is Urdu.\n"
     ]
    }
   ],
   "source": [
    "print(query_engine.query(\"what is the language of Pakistan\"))"
   ]
  },
  {
   "cell_type": "markdown",
   "id": "4b32125e",
   "metadata": {},
   "source": [
    "## Storing"
   ]
  },
  {
   "cell_type": "code",
   "execution_count": 10,
   "id": "0bac4b17",
   "metadata": {},
   "outputs": [],
   "source": [
    "index.storage_context.persist('countries-index')"
   ]
  },
  {
   "cell_type": "markdown",
   "id": "20b1737d",
   "metadata": {},
   "source": [
    "## Loading Index"
   ]
  },
  {
   "cell_type": "code",
   "execution_count": 11,
   "id": "ad943808",
   "metadata": {},
   "outputs": [],
   "source": [
    "from llama_index import StorageContext, load_index_from_storage\n",
    "\n",
    "# rebuild storage context\n",
    "storage_context = StorageContext.from_defaults(persist_dir='countries-index')\n",
    "# load index\n",
    "index = load_index_from_storage(storage_context)"
   ]
  },
  {
   "cell_type": "code",
   "execution_count": 12,
   "id": "8bb5c782",
   "metadata": {},
   "outputs": [],
   "source": [
    "query_engine_new = index.as_query_engine()"
   ]
  },
  {
   "cell_type": "code",
   "execution_count": 13,
   "id": "6fc6b9f1",
   "metadata": {},
   "outputs": [
    {
     "name": "stdout",
     "output_type": "stream",
     "text": [
      "Independence Day - July 4th\n",
      "Thanksgiving - Fourth Thursday in November\n",
      "Halloween - October 31st\n",
      "Christmas - December 25th\n",
      "Labor Day - First Monday in September\n"
     ]
    }
   ],
   "source": [
    "print(query_engine_new.query(\"List down Festivals of USA with its's date if possible\"))"
   ]
  },
  {
   "cell_type": "markdown",
   "id": "8cd359b1",
   "metadata": {},
   "source": [
    "# Customization"
   ]
  },
  {
   "cell_type": "markdown",
   "id": "df0556f4",
   "metadata": {},
   "source": [
    "## parse documents into smaller chunks"
   ]
  },
  {
   "cell_type": "code",
   "execution_count": 14,
   "id": "22b76982",
   "metadata": {},
   "outputs": [
    {
     "name": "stdout",
     "output_type": "stream",
     "text": [
      "English cuisine includes classics like fish and chips, roast dinners, and afternoon tea. The country also has a diverse culinary scene influenced by immigration, with a variety of international restaurants.\n"
     ]
    }
   ],
   "source": [
    "from llama_index import ServiceContext\n",
    "service_context = ServiceContext.from_defaults(chunk_size=1000)\n",
    "from llama_index import VectorStoreIndex, SimpleDirectoryReader\n",
    "\n",
    "documents = SimpleDirectoryReader('countries').load_data()\n",
    "index = VectorStoreIndex.from_documents(documents, service_context=service_context)\n",
    "query_engine = index.as_query_engine()\n",
    "response = query_engine.query(\"List the Cuisines of England?\")\n",
    "print(response)"
   ]
  },
  {
   "cell_type": "markdown",
   "id": "82bc7dc2",
   "metadata": {},
   "source": []
  },
  {
   "cell_type": "code",
   "execution_count": null,
   "id": "a9e2ca79",
   "metadata": {},
   "outputs": [],
   "source": []
  },
  {
   "cell_type": "code",
   "execution_count": null,
   "id": "9c8a6ae1",
   "metadata": {},
   "outputs": [],
   "source": []
  }
 ],
 "metadata": {
  "kernelspec": {
   "display_name": "Python 3 (ipykernel)",
   "language": "python",
   "name": "python3"
  },
  "language_info": {
   "codemirror_mode": {
    "name": "ipython",
    "version": 3
   },
   "file_extension": ".py",
   "mimetype": "text/x-python",
   "name": "python",
   "nbconvert_exporter": "python",
   "pygments_lexer": "ipython3",
   "version": "3.9.17"
  }
 },
 "nbformat": 4,
 "nbformat_minor": 5
}
