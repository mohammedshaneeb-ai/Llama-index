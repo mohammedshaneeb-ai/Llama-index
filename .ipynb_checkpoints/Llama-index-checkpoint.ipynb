{
 "cells": [
  {
   "cell_type": "code",
   "execution_count": 1,
   "id": "eb052a67",
   "metadata": {
    "collapsed": true
   },
   "outputs": [
    {
     "name": "stdout",
     "output_type": "stream",
     "text": [
      "Collecting llama-index\n",
      "  Obtaining dependency information for llama-index from https://files.pythonhosted.org/packages/2b/2b/0d4914384513dd15ea60a52a0f6b380b7dee2be7e2049e4c0986ed863305/llama_index-0.8.20-py3-none-any.whl.metadata\n",
      "  Downloading llama_index-0.8.20-py3-none-any.whl.metadata (4.9 kB)\n",
      "Requirement already satisfied: tiktoken in /home/mohammed_shaneeb/anaconda3/lib/python3.9/site-packages (from llama-index) (0.4.0)\n",
      "Requirement already satisfied: dataclasses-json in /home/mohammed_shaneeb/anaconda3/lib/python3.9/site-packages (from llama-index) (0.5.7)\n",
      "Requirement already satisfied: langchain>=0.0.262 in /home/mohammed_shaneeb/anaconda3/lib/python3.9/site-packages (from llama-index) (0.0.276)\n",
      "Collecting sqlalchemy>=2.0.15 (from llama-index)\n",
      "  Obtaining dependency information for sqlalchemy>=2.0.15 from https://files.pythonhosted.org/packages/91/2b/92aadcea86b9ebd681de0b6b2cbfa75193227e607893cfb5feea0cefc461/SQLAlchemy-2.0.20-cp39-cp39-manylinux_2_17_x86_64.manylinux2014_x86_64.whl.metadata\n",
      "  Downloading SQLAlchemy-2.0.20-cp39-cp39-manylinux_2_17_x86_64.manylinux2014_x86_64.whl.metadata (9.4 kB)\n",
      "Requirement already satisfied: numpy in /home/mohammed_shaneeb/anaconda3/lib/python3.9/site-packages (from llama-index) (1.23.5)\n",
      "Requirement already satisfied: tenacity<9.0.0,>=8.2.0 in /home/mohammed_shaneeb/anaconda3/lib/python3.9/site-packages (from llama-index) (8.2.2)\n",
      "Requirement already satisfied: openai>=0.26.4 in /home/mohammed_shaneeb/anaconda3/lib/python3.9/site-packages (from llama-index) (0.27.10)\n",
      "Requirement already satisfied: pandas in /home/mohammed_shaneeb/anaconda3/lib/python3.9/site-packages (from llama-index) (1.5.3)\n",
      "Requirement already satisfied: urllib3<2 in /home/mohammed_shaneeb/anaconda3/lib/python3.9/site-packages (from llama-index) (1.26.16)\n",
      "Collecting fsspec>=2023.5.0 (from llama-index)\n",
      "  Obtaining dependency information for fsspec>=2023.5.0 from https://files.pythonhosted.org/packages/3a/9f/b40e8e5be886143379000af5fc0c675352d59e82fd869d24bf784161dc77/fsspec-2023.9.0-py3-none-any.whl.metadata\n",
      "  Downloading fsspec-2023.9.0-py3-none-any.whl.metadata (6.7 kB)\n",
      "Requirement already satisfied: typing-inspect>=0.8.0 in /home/mohammed_shaneeb/anaconda3/lib/python3.9/site-packages (from llama-index) (0.8.0)\n",
      "Requirement already satisfied: typing-extensions>=4.5.0 in /home/mohammed_shaneeb/anaconda3/lib/python3.9/site-packages (from llama-index) (4.7.1)\n",
      "Requirement already satisfied: beautifulsoup4 in /home/mohammed_shaneeb/anaconda3/lib/python3.9/site-packages (from llama-index) (4.12.2)\n",
      "Requirement already satisfied: nest-asyncio in /home/mohammed_shaneeb/.local/lib/python3.9/site-packages (from llama-index) (1.5.6)\n",
      "Requirement already satisfied: PyYAML>=5.3 in /home/mohammed_shaneeb/anaconda3/lib/python3.9/site-packages (from langchain>=0.0.262->llama-index) (6.0)\n",
      "Requirement already satisfied: aiohttp<4.0.0,>=3.8.3 in /home/mohammed_shaneeb/anaconda3/lib/python3.9/site-packages (from langchain>=0.0.262->llama-index) (3.8.3)\n",
      "Requirement already satisfied: async-timeout<5.0.0,>=4.0.0 in /home/mohammed_shaneeb/anaconda3/lib/python3.9/site-packages (from langchain>=0.0.262->llama-index) (4.0.2)\n",
      "Requirement already satisfied: langsmith<0.1.0,>=0.0.21 in /home/mohammed_shaneeb/anaconda3/lib/python3.9/site-packages (from langchain>=0.0.262->llama-index) (0.0.28)\n",
      "Requirement already satisfied: numexpr<3.0.0,>=2.8.4 in /home/mohammed_shaneeb/anaconda3/lib/python3.9/site-packages (from langchain>=0.0.262->llama-index) (2.8.4)\n",
      "Requirement already satisfied: pydantic<3,>=1 in /home/mohammed_shaneeb/anaconda3/lib/python3.9/site-packages (from langchain>=0.0.262->llama-index) (1.10.12)\n",
      "Requirement already satisfied: requests<3,>=2 in /home/mohammed_shaneeb/anaconda3/lib/python3.9/site-packages (from langchain>=0.0.262->llama-index) (2.31.0)\n",
      "Requirement already satisfied: marshmallow<4.0.0,>=3.3.0 in /home/mohammed_shaneeb/anaconda3/lib/python3.9/site-packages (from dataclasses-json->llama-index) (3.19.0)\n",
      "Requirement already satisfied: marshmallow-enum<2.0.0,>=1.5.1 in /home/mohammed_shaneeb/anaconda3/lib/python3.9/site-packages (from dataclasses-json->llama-index) (1.5.1)\n",
      "Requirement already satisfied: tqdm in /home/mohammed_shaneeb/anaconda3/lib/python3.9/site-packages (from openai>=0.26.4->llama-index) (4.65.0)\n",
      "Requirement already satisfied: greenlet!=0.4.17 in /home/mohammed_shaneeb/anaconda3/lib/python3.9/site-packages (from sqlalchemy>=2.0.15->llama-index) (2.0.1)\n",
      "Requirement already satisfied: mypy-extensions>=0.3.0 in /home/mohammed_shaneeb/anaconda3/lib/python3.9/site-packages (from typing-inspect>=0.8.0->llama-index) (0.4.3)\n",
      "Requirement already satisfied: soupsieve>1.2 in /home/mohammed_shaneeb/anaconda3/lib/python3.9/site-packages (from beautifulsoup4->llama-index) (2.4)\n",
      "Requirement already satisfied: python-dateutil>=2.8.1 in /home/mohammed_shaneeb/anaconda3/lib/python3.9/site-packages (from pandas->llama-index) (2.8.1)\n",
      "Requirement already satisfied: pytz>=2020.1 in /home/mohammed_shaneeb/anaconda3/lib/python3.9/site-packages (from pandas->llama-index) (2022.7)\n",
      "Requirement already satisfied: regex>=2022.1.18 in /home/mohammed_shaneeb/anaconda3/lib/python3.9/site-packages (from tiktoken->llama-index) (2022.7.9)\n",
      "Requirement already satisfied: attrs>=17.3.0 in /home/mohammed_shaneeb/anaconda3/lib/python3.9/site-packages (from aiohttp<4.0.0,>=3.8.3->langchain>=0.0.262->llama-index) (22.1.0)\n",
      "Requirement already satisfied: charset-normalizer<3.0,>=2.0 in /home/mohammed_shaneeb/anaconda3/lib/python3.9/site-packages (from aiohttp<4.0.0,>=3.8.3->langchain>=0.0.262->llama-index) (2.0.4)\n",
      "Requirement already satisfied: multidict<7.0,>=4.5 in /home/mohammed_shaneeb/anaconda3/lib/python3.9/site-packages (from aiohttp<4.0.0,>=3.8.3->langchain>=0.0.262->llama-index) (6.0.2)\n",
      "Requirement already satisfied: yarl<2.0,>=1.0 in /home/mohammed_shaneeb/anaconda3/lib/python3.9/site-packages (from aiohttp<4.0.0,>=3.8.3->langchain>=0.0.262->llama-index) (1.8.1)\n",
      "Requirement already satisfied: frozenlist>=1.1.1 in /home/mohammed_shaneeb/anaconda3/lib/python3.9/site-packages (from aiohttp<4.0.0,>=3.8.3->langchain>=0.0.262->llama-index) (1.3.3)\n",
      "Requirement already satisfied: aiosignal>=1.1.2 in /home/mohammed_shaneeb/anaconda3/lib/python3.9/site-packages (from aiohttp<4.0.0,>=3.8.3->langchain>=0.0.262->llama-index) (1.2.0)\n",
      "Requirement already satisfied: packaging>=17.0 in /home/mohammed_shaneeb/.local/lib/python3.9/site-packages (from marshmallow<4.0.0,>=3.3.0->dataclasses-json->llama-index) (23.0)\n",
      "Requirement already satisfied: six>=1.5 in /home/mohammed_shaneeb/.local/lib/python3.9/site-packages (from python-dateutil>=2.8.1->pandas->llama-index) (1.16.0)\n",
      "Requirement already satisfied: idna<4,>=2.5 in /home/mohammed_shaneeb/anaconda3/lib/python3.9/site-packages (from requests<3,>=2->langchain>=0.0.262->llama-index) (3.4)\n",
      "Requirement already satisfied: certifi>=2017.4.17 in /home/mohammed_shaneeb/anaconda3/lib/python3.9/site-packages (from requests<3,>=2->langchain>=0.0.262->llama-index) (2023.7.22)\n",
      "Downloading llama_index-0.8.20-py3-none-any.whl (752 kB)\n",
      "\u001b[2K   \u001b[38;2;114;156;31m━━━━━━━━━━━━━━━━━━━━━━━━━━━━━━━━━━━━━━━━\u001b[0m \u001b[32m752.3/752.3 kB\u001b[0m \u001b[31m1.5 MB/s\u001b[0m eta \u001b[36m0:00:00\u001b[0m[31m1.6 MB/s\u001b[0m eta \u001b[36m0:00:01\u001b[0m\n",
      "\u001b[?25hDownloading fsspec-2023.9.0-py3-none-any.whl (173 kB)\n",
      "\u001b[2K   \u001b[38;2;114;156;31m━━━━━━━━━━━━━━━━━━━━━━━━━━━━━━━━━━━━━━━━\u001b[0m \u001b[32m173.2/173.2 kB\u001b[0m \u001b[31m2.7 MB/s\u001b[0m eta \u001b[36m0:00:00\u001b[0mMB/s\u001b[0m eta \u001b[36m0:00:01\u001b[0m\n",
      "\u001b[?25hDownloading SQLAlchemy-2.0.20-cp39-cp39-manylinux_2_17_x86_64.manylinux2014_x86_64.whl (3.0 MB)\n",
      "\u001b[2K   \u001b[38;2;114;156;31m━━━━━━━━━━━━━━━━━━━━━━━━━━━━━━━━━━━━━━━━\u001b[0m \u001b[32m3.0/3.0 MB\u001b[0m \u001b[31m2.1 MB/s\u001b[0m eta \u001b[36m0:00:00\u001b[0mm eta \u001b[36m0:00:01\u001b[0m[36m0:00:01\u001b[0m\n",
      "\u001b[?25hInstalling collected packages: sqlalchemy, fsspec, llama-index\n",
      "  Attempting uninstall: sqlalchemy\n",
      "    Found existing installation: SQLAlchemy 1.4.39\n",
      "    Uninstalling SQLAlchemy-1.4.39:\n",
      "      Successfully uninstalled SQLAlchemy-1.4.39\n",
      "  Attempting uninstall: fsspec\n",
      "    Found existing installation: fsspec 2023.4.0\n",
      "    Uninstalling fsspec-2023.4.0:\n",
      "      Successfully uninstalled fsspec-2023.4.0\n",
      "\u001b[31mERROR: pip's dependency resolver does not currently take into account all the packages that are installed. This behaviour is the source of the following dependency conflicts.\n",
      "doccano 1.8.4 requires pydantic<3.0.0,>=2.0.3, but you have pydantic 1.10.12 which is incompatible.\n",
      "doccano 1.8.4 requires SQLAlchemy<2.0.0,>=1.4.31, but you have sqlalchemy 2.0.20 which is incompatible.\n",
      "lightning 2.0.1 requires fastapi<0.89.0, but you have fastapi 0.99.1 which is incompatible.\n",
      "s3fs 2023.4.0 requires fsspec==2023.4.0, but you have fsspec 2023.9.0 which is incompatible.\u001b[0m\u001b[31m\n",
      "\u001b[0mSuccessfully installed fsspec-2023.9.0 llama-index-0.8.20 sqlalchemy-2.0.20\n"
     ]
    }
   ],
   "source": [
    "!pip install llama-index"
   ]
  },
  {
   "cell_type": "markdown",
   "id": "f8b168e5",
   "metadata": {},
   "source": [
    "## Setting API KEY"
   ]
  },
  {
   "cell_type": "code",
   "execution_count": 2,
   "id": "f398a885",
   "metadata": {},
   "outputs": [],
   "source": [
    "import os\n",
    "from dotenv import load_dotenv\n",
    "load_dotenv()\n",
    "\n",
    "os.environ['OPENAI_API_KEY'] = os.environ.get('OPENAI_API_KEY')"
   ]
  },
  {
   "cell_type": "markdown",
   "id": "5b0719e3",
   "metadata": {},
   "source": [
    "## build a simple vector store index"
   ]
  },
  {
   "cell_type": "code",
   "execution_count": 4,
   "id": "76e1323f",
   "metadata": {},
   "outputs": [],
   "source": [
    "from llama_index import VectorStoreIndex, SimpleDirectoryReader\n",
    "\n",
    "documents = SimpleDirectoryReader('countries').load_data()\n",
    "index = VectorStoreIndex.from_documents(documents)\n",
    "query_engine = index.as_query_engine()"
   ]
  },
  {
   "cell_type": "code",
   "execution_count": 6,
   "id": "48ad59eb",
   "metadata": {},
   "outputs": [
    {
     "name": "stdout",
     "output_type": "stream",
     "text": [
      "India's culture is known for its incredible diversity, with a variety of languages, religions, and traditions. It is often referred to as the \"Land of Diversity\" due to the numerous ethnic groups that call it home. The country's cultural landscape is heavily influenced by its religious diversity, with major religions such as Hinduism, Buddhism, Jainism, and Sikhism originating in India. Art and architecture are integral to Indian culture, with intricate temple sculptures, colorful frescoes, and stunning architectural wonders like the Taj Mahal. Indian cuisine is famous worldwide for its diverse flavors and regional specialties, with spices playing a central role in cooking. Traditional Indian clothing varies across regions, with sarees, dhotis, and kurta-pajamas being commonly worn. India is also renowned for its vibrant festivals, such as Diwali (Festival of Lights) and Holi (Festival of Colors), which are celebrated with enthusiasm and fervor. India's history dates back to the ancient Indus Valley Civilization, and it has seen the rise and fall of various empires, including the Maurya, Gupta, and Mughal empires. It was colonized by the British East India Company before gaining independence in 1947. Since then, India has made significant progress in various fields and remains a diverse and dynamic nation with a global influence.\n"
     ]
    }
   ],
   "source": [
    "print(query_engine.query(\"what is the culture of India\"))"
   ]
  },
  {
   "cell_type": "code",
   "execution_count": 7,
   "id": "3ca24eae",
   "metadata": {},
   "outputs": [
    {
     "name": "stdout",
     "output_type": "stream",
     "text": [
      "Independence Day - July 4th\n",
      "Thanksgiving - Fourth Thursday in November\n",
      "Halloween - October 31st\n",
      "Christmas - December 25th\n",
      "Labor Day - First Monday in September\n"
     ]
    }
   ],
   "source": [
    "print(query_engine.query(\"List down Festivals of USA with its's date if possible\"))"
   ]
  },
  {
   "cell_type": "code",
   "execution_count": 9,
   "id": "5b299d39",
   "metadata": {},
   "outputs": [
    {
     "name": "stdout",
     "output_type": "stream",
     "text": [
      "The language of Pakistan is Urdu.\n"
     ]
    }
   ],
   "source": [
    "print(query_engine.query(\"what is the language of Pakistan\"))"
   ]
  },
  {
   "cell_type": "markdown",
   "id": "3fd13015",
   "metadata": {},
   "source": [
    "## Storing"
   ]
  },
  {
   "cell_type": "code",
   "execution_count": 10,
   "id": "a73feaf2",
   "metadata": {},
   "outputs": [],
   "source": [
    "index.storage_context.persist('countries-index')"
   ]
  },
  {
   "cell_type": "markdown",
   "id": "a4f8abb6",
   "metadata": {},
   "source": [
    "## Loading Index"
   ]
  },
  {
   "cell_type": "code",
   "execution_count": 11,
   "id": "cf850b58",
   "metadata": {},
   "outputs": [],
   "source": [
    "from llama_index import StorageContext, load_index_from_storage\n",
    "\n",
    "# rebuild storage context\n",
    "storage_context = StorageContext.from_defaults(persist_dir='countries-index')\n",
    "# load index\n",
    "index = load_index_from_storage(storage_context)"
   ]
  },
  {
   "cell_type": "code",
   "execution_count": 12,
   "id": "0e38dc27",
   "metadata": {},
   "outputs": [],
   "source": [
    "query_engine_new = index.as_query_engine()"
   ]
  },
  {
   "cell_type": "code",
   "execution_count": 13,
   "id": "209799de",
   "metadata": {},
   "outputs": [
    {
     "name": "stdout",
     "output_type": "stream",
     "text": [
      "Independence Day - July 4th\n",
      "Thanksgiving - Fourth Thursday in November\n",
      "Halloween - October 31st\n",
      "Christmas - December 25th\n",
      "Labor Day - First Monday in September\n"
     ]
    }
   ],
   "source": [
    "print(query_engine_new.query(\"List down Festivals of USA with its's date if possible\"))"
   ]
  },
  {
   "cell_type": "markdown",
   "id": "a2051315",
   "metadata": {},
   "source": [
    "# Customization"
   ]
  },
  {
   "cell_type": "markdown",
   "id": "58120efd",
   "metadata": {},
   "source": [
    "## parse documents into smaller chunks"
   ]
  },
  {
   "cell_type": "code",
   "execution_count": 14,
   "id": "cbd25cba",
   "metadata": {},
   "outputs": [
    {
     "name": "stdout",
     "output_type": "stream",
     "text": [
      "English cuisine includes classics like fish and chips, roast dinners, and afternoon tea. The country also has a diverse culinary scene influenced by immigration, with a variety of international restaurants.\n"
     ]
    }
   ],
   "source": [
    "from llama_index import ServiceContext\n",
    "service_context = ServiceContext.from_defaults(chunk_size=1000)\n",
    "from llama_index import VectorStoreIndex, SimpleDirectoryReader\n",
    "\n",
    "documents = SimpleDirectoryReader('countries').load_data()\n",
    "index = VectorStoreIndex.from_documents(documents, service_context=service_context)\n",
    "query_engine = index.as_query_engine()\n",
    "response = query_engine.query(\"List the Cuisines of England?\")\n",
    "print(response)"
   ]
  },
  {
   "cell_type": "markdown",
   "id": "1f2f466c",
   "metadata": {},
   "source": [
    "## use a different vector store"
   ]
  },
  {
   "cell_type": "code",
   "execution_count": 15,
   "id": "2ac5268f",
   "metadata": {},
   "outputs": [],
   "source": [
    "import chromadb\n",
    "from llama_index.vector_stores import ChromaVectorStore\n",
    "from llama_index import StorageContext\n",
    "\n",
    "\n",
    "chroma_client = chromadb.PersistentClient()\n",
    "chroma_collection = chroma_client.create_collection('countries_collection')\n",
    "vector_store = ChromaVectorStore(chroma_collection=chroma_collection)\n",
    "storage_context = StorageContext.from_defaults(vector_store=vector_store)"
   ]
  },
  {
   "cell_type": "code",
   "execution_count": 17,
   "id": "79b520e0",
   "metadata": {
    "scrolled": true
   },
   "outputs": [
    {
     "name": "stdout",
     "output_type": "stream",
     "text": [
      "- Biryani\n",
      "- Kebabs\n",
      "- Nihari\n",
      "- Naan and roti (various types of bread)\n"
     ]
    }
   ],
   "source": [
    "from llama_index import VectorStoreIndex, SimpleDirectoryReader\n",
    "\n",
    "documents = SimpleDirectoryReader('countries').load_data()\n",
    "index = VectorStoreIndex.from_documents(documents, storage_context=storage_context)\n",
    "query_engine = index.as_query_engine()\n",
    "response = query_engine.query(\"List out the Cuisines of Pakistan in bullet points?\")\n",
    "print(response)"
   ]
  },
  {
   "cell_type": "markdown",
   "id": "36544e52",
   "metadata": {},
   "source": [
    "## retrieve more context when I query"
   ]
  },
  {
   "cell_type": "code",
   "execution_count": 18,
   "id": "390d62d4",
   "metadata": {},
   "outputs": [
    {
     "name": "stdout",
     "output_type": "stream",
     "text": [
      "India is renowned for its vibrant festivals, each celebrated with enthusiasm and fervor. Some of the most significant festivals in India include Diwali, Holi, Eid, Durga Puja, and Christmas.\n",
      "\n",
      "Diwali, also known as the Festival of Lights, celebrates the victory of light over darkness and good over evil. It involves lighting lamps, bursting fireworks, exchanging gifts, and enjoying sweets.\n",
      "\n",
      "Holi, known as the Festival of Colors, is a joyful celebration marked by people throwing colored powders and water at each other. It signifies the arrival of spring.\n",
      "\n",
      "Eid is celebrated by Muslims in India with prayers, feasts, and the exchange of gifts. These festivals hold special significance in Islamic culture.\n",
      "\n",
      "Durga Puja is a major Hindu festival celebrated predominantly in West Bengal. It honors the goddess Durga and features elaborate decorations, cultural performances, and processions.\n",
      "\n",
      "Christmas is celebrated by Christians and non-Christians alike in India. It involves decorated trees, midnight masses, and the exchange of gifts. It is a time of joy and togetherness.\n",
      "\n",
      "These festivals showcase the diversity and cultural richness of India. Each festival has its unique customs, rituals, and traditions, and they bring people together in celebration and unity.\n"
     ]
    }
   ],
   "source": [
    "from llama_index import VectorStoreIndex, SimpleDirectoryReader\n",
    "\n",
    "documents = SimpleDirectoryReader('countries').load_data()\n",
    "index = VectorStoreIndex.from_documents(documents)\n",
    "query_engine = index.as_query_engine(similarity_top=5)\n",
    "response = query_engine.query(\"Describe about the Festivals of India?\")\n",
    "print(response)"
   ]
  },
  {
   "cell_type": "markdown",
   "id": "3960575f",
   "metadata": {},
   "source": [
    "## use a different LLM"
   ]
  },
  {
   "cell_type": "code",
   "execution_count": 25,
   "id": "b5189578",
   "metadata": {},
   "outputs": [],
   "source": [
    "from llama_index import ServiceContext,LLMPredictor\n",
    "from langchain.chat_models import ChatOpenAI\n",
    "\n",
    "llm_predictor = LLMPredictor(llm=ChatOpenAI(temperature=0, model_name=\"gpt-3.5-turbo\"))\n",
    "service_context = ServiceContext.from_defaults(llm_predictor=llm_predictor)"
   ]
  },
  {
   "cell_type": "code",
   "execution_count": 26,
   "id": "6ea1229e",
   "metadata": {},
   "outputs": [
    {
     "name": "stdout",
     "output_type": "stream",
     "text": [
      "The festivals of the United States (USA) are diverse and celebrated with enthusiasm. One significant festival is Independence Day, which commemorates the Declaration of Independence and is celebrated on the Fourth of July. It involves fireworks, parades, barbecues, and patriotic displays. Thanksgiving is another important festival, observed on the fourth Thursday in November. It is a time for families to gather and give thanks, with a traditional feast that includes roast turkey and pumpkin pie. Halloween is a fun holiday celebrated on October 31st, with costume parties, trick-or-treating, and haunted house visits. Christmas is widely celebrated with decorations, gift-giving, and gatherings, and is marked by festive lights and decorations in many cities. Labor Day, observed on the first Monday in September, honors the contributions of workers and is celebrated with picnics and parades. These festivals reflect the cultural and historical significance of the United States.\n"
     ]
    }
   ],
   "source": [
    "documents = SimpleDirectoryReader('countries').load_data()\n",
    "index = VectorStoreIndex.from_documents(documents)\n",
    "query_engine = index.as_query_engine(similarity_top=5)\n",
    "response = query_engine.query(\"Describe about the Festivals of USA?\")\n",
    "print(response)"
   ]
  },
  {
   "cell_type": "markdown",
   "id": "9fb90120",
   "metadata": {},
   "source": [
    "## Using Chatbot Instead of Q&A"
   ]
  },
  {
   "cell_type": "code",
   "execution_count": 28,
   "id": "0486dcb0",
   "metadata": {},
   "outputs": [
    {
     "name": "stdout",
     "output_type": "stream",
     "text": [
      "England celebrates a variety of festivals throughout the year. Some of the popular festivals in England include:\n",
      "\n",
      "1. Notting Hill Carnival: Held in August, it is the largest street festival in Europe, celebrating Caribbean culture with colorful costumes, music, and dance.\n",
      "\n",
      "2. Glastonbury Festival: A famous music festival held in June, featuring a wide range of music genres and attracting thousands of music lovers from around the world.\n",
      "\n",
      "3. Bonfire Night: Also known as Guy Fawkes Night, it is celebrated on November 5th to commemorate the failed Gunpowder Plot of 1605. Fireworks displays and bonfires are common during this festival.\n",
      "\n",
      "4. Christmas: Celebrated on December 25th, Christmas is a major festival in England. It is a time for family gatherings, exchanging gifts, and enjoying festive meals.\n",
      "\n",
      "5. Easter: A Christian festival celebrated in March or April, Easter marks the resurrection of Jesus Christ. It is a time for church services, Easter egg hunts, and family meals.\n",
      "\n",
      "6. St. Patrick's Day: Although St. Patrick's Day is associated with Ireland, it is also celebrated in England, particularly in cities like London and Manchester. It involves parades, music, and wearing green.\n",
      "\n",
      "7. Wimbledon: While not a traditional festival, Wimbledon is a major sporting event in England. It is the oldest tennis tournament in the world and takes place in June and July.\n",
      "\n",
      "These are just a few examples of the festivals celebrated in England. There are many more regional and cultural festivals that vary across different parts of the country.\n"
     ]
    }
   ],
   "source": [
    "from llama_index import VectorStoreIndex, SimpleDirectoryReader\n",
    "\n",
    "documents = SimpleDirectoryReader('countries').load_data()\n",
    "index = VectorStoreIndex.from_documents(documents)\n",
    "query_engine = index.as_chat_engine()\n",
    "response = query_engine.query(\"What are the festivals of England?\")\n",
    "print(response)"
   ]
  },
  {
   "cell_type": "code",
   "execution_count": 29,
   "id": "6d2f4d8f",
   "metadata": {},
   "outputs": [
    {
     "name": "stdout",
     "output_type": "stream",
     "text": [
      "England has a diverse culinary scene with a variety of traditional and modern cuisines. Here are some popular English cuisines:\n",
      "\n",
      "1. Fish and Chips: This is a classic English dish consisting of deep-fried battered fish (usually cod or haddock) served with chips (thick-cut fries). It is often accompanied by mushy peas and tartar sauce.\n",
      "\n",
      "2. Roast Beef and Yorkshire Pudding: A traditional Sunday roast, this dish features roasted beef served with Yorkshire pudding (a savory baked batter), roasted potatoes, vegetables, and gravy.\n",
      "\n",
      "3. Full English Breakfast: A hearty breakfast meal that typically includes bacon, eggs, sausages, baked beans, grilled tomatoes, mushrooms, and toast. It is often served with black pudding and a cup of tea.\n",
      "\n",
      "4. Afternoon Tea: A quintessential English tradition, afternoon tea is a light meal typically served between lunch and dinner. It includes a selection of finger sandwiches, scones with clotted cream and jam, cakes, and a pot of tea.\n",
      "\n",
      "5. Cornish Pasty: Originating from Cornwall, this is a savory pastry filled with meat (usually beef), potatoes, onions, and swede (rutabaga). It is a popular grab-and-go snack.\n",
      "\n",
      "6. Shepherd's Pie: A comforting dish made with minced lamb or beef, mixed with vegetables and topped with mashed potatoes. It is baked until the top is golden and crispy.\n",
      "\n",
      "7. Sticky Toffee Pudding: A delicious dessert made with moist sponge cake soaked in toffee sauce. It is often served with vanilla ice cream or custard.\n",
      "\n",
      "8. Ploughman's Lunch: A traditional pub lunch consisting of cold ingredients such as cheese, pickles, cold meats, bread, and salad. It is a simple and satisfying meal.\n",
      "\n",
      "These are just a few examples of English cuisines. England also has a vibrant food scene with influences from various cultures, so you can find a wide range of international cuisines in cities like London.\n"
     ]
    }
   ],
   "source": [
    "response = query_engine.chat(\"Oh interesting, what are their Cuisines\")\n",
    "print(response)"
   ]
  },
  {
   "cell_type": "markdown",
   "id": "8fda4b1c",
   "metadata": {},
   "source": [
    "## Customizing Prompt"
   ]
  },
  {
   "cell_type": "code",
   "execution_count": 31,
   "id": "7d4b6122",
   "metadata": {},
   "outputs": [
    {
     "name": "stdout",
     "output_type": "stream",
     "text": [
      "Mohammed Shaneeb AI: The culture of Canada is characterized by its cultural diversity, with people from diverse backgrounds and ethnicities coexisting harmoniously. This multiculturalism is a defining feature of Canadian society. Canada is also known for its bilingualism, with English and French as the two official languages. The country has a rich artistic heritage, with contributions to literature, music, film, and visual arts. Indigenous culture is an integral part of Canadian culture, with indigenous art, storytelling, and traditions being celebrated. Canadian cuisine is influenced by both indigenous and immigrant cultures, with iconic dishes like poutine, butter tarts, tourtière, and Nanaimo bars.\n"
     ]
    }
   ],
   "source": [
    "from llama_index import Prompt\n",
    "\n",
    "# Define a custom prompt\n",
    "template = (\n",
    "    \"We have provided context information below. \\n\"\n",
    "    \"---------------------\\n\"\n",
    "    \"{context_str}\"\n",
    "    \"\\n---------------------\\n\"\n",
    "    \"Given this information, please answer the question and each answer should start with code word Mohammed Shaneeb AI: {query_str}\\n\"\n",
    ")\n",
    "qa_template = Prompt(template)\n",
    "\n",
    "# Use the custom prompt when querying\n",
    "query_engine = index.as_query_engine(text_qa_template=qa_template)\n",
    "response = query_engine.query(\"what is the culture of Canada?\")\n",
    "print(response)\n"
   ]
  },
  {
   "cell_type": "markdown",
   "id": "3d0b7ed1",
   "metadata": {},
   "source": [
    "## Customizing Embedding "
   ]
  },
  {
   "cell_type": "code",
   "execution_count": 33,
   "id": "88f3d4a3",
   "metadata": {},
   "outputs": [
    {
     "name": "stdout",
     "output_type": "stream",
     "text": [
      "The top three cuisines of Pakistan are biryani, kebabs, and nihari. These dishes are known for their flavorful taste and are popular among both locals and visitors.\n"
     ]
    }
   ],
   "source": [
    "from langchain.embeddings.huggingface import HuggingFaceEmbeddings\n",
    "from llama_index import LangchainEmbedding, ServiceContext\n",
    "\n",
    "# Load in a specific embedding model\n",
    "embed_model = LangchainEmbedding(HuggingFaceEmbeddings(model_name='sentence-transformers/all-MiniLM-L6-v2'))\n",
    "\n",
    "# Create a service context with the custom embedding model\n",
    "service_context = ServiceContext.from_defaults(embed_model=embed_model)\n",
    "\n",
    "# Create an index using the service context\n",
    "new_index = VectorStoreIndex.from_documents(\n",
    "    documents,\n",
    "    service_context=service_context,\n",
    ")\n",
    "\n",
    "query_engine = index.as_query_engine()\n",
    "response = query_engine.query(\"list top 3 cusines of Pakistan\")\n",
    "print(response)\n"
   ]
  }
 ],
 "metadata": {
  "kernelspec": {
   "display_name": "Python 3 (ipykernel)",
   "language": "python",
   "name": "python3"
  },
  "language_info": {
   "codemirror_mode": {
    "name": "ipython",
    "version": 3
   },
   "file_extension": ".py",
   "mimetype": "text/x-python",
   "name": "python",
   "nbconvert_exporter": "python",
   "pygments_lexer": "ipython3",
   "version": "3.9.17"
  }
 },
 "nbformat": 4,
 "nbformat_minor": 5
}
